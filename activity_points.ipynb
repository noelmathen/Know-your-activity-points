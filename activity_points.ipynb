{
  "nbformat": 4,
  "nbformat_minor": 0,
  "metadata": {
    "colab": {
      "provenance": [],
      "authorship_tag": "ABX9TyP4zn6evNkSK33p7+ISucSp",
      "include_colab_link": true
    },
    "kernelspec": {
      "name": "python3",
      "display_name": "Python 3"
    },
    "language_info": {
      "name": "python"
    }
  },
  "cells": [
    {
      "cell_type": "markdown",
      "metadata": {
        "id": "view-in-github",
        "colab_type": "text"
      },
      "source": [
        "<a href=\"https://colab.research.google.com/github/noelmathen/Know-your-activity-points/blob/main/activity_points.ipynb\" target=\"_parent\"><img src=\"https://colab.research.google.com/assets/colab-badge.svg\" alt=\"Open In Colab\"/></a>"
      ]
    },
    {
      "cell_type": "code",
      "execution_count": 1,
      "metadata": {
        "colab": {
          "base_uri": "https://localhost:8080/"
        },
        "id": "05Ms9pAY5UUb",
        "outputId": "e9e7047e-245e-496d-afe3-f609c40a7a70"
      },
      "outputs": [
        {
          "output_type": "stream",
          "name": "stdout",
          "text": [
            "Collecting selenium\n",
            "  Downloading selenium-4.28.1-py3-none-any.whl.metadata (7.1 kB)\n",
            "Requirement already satisfied: pandas in /usr/local/lib/python3.11/dist-packages (2.2.2)\n",
            "Requirement already satisfied: openpyxl in /usr/local/lib/python3.11/dist-packages (3.1.5)\n",
            "Collecting xlsxwriter\n",
            "  Downloading XlsxWriter-3.2.2-py3-none-any.whl.metadata (2.8 kB)\n",
            "Requirement already satisfied: urllib3<3,>=1.26 in /usr/local/lib/python3.11/dist-packages (from urllib3[socks]<3,>=1.26->selenium) (2.3.0)\n",
            "Collecting trio~=0.17 (from selenium)\n",
            "  Downloading trio-0.28.0-py3-none-any.whl.metadata (8.5 kB)\n",
            "Collecting trio-websocket~=0.9 (from selenium)\n",
            "  Downloading trio_websocket-0.11.1-py3-none-any.whl.metadata (4.7 kB)\n",
            "Requirement already satisfied: certifi>=2021.10.8 in /usr/local/lib/python3.11/dist-packages (from selenium) (2024.12.14)\n",
            "Requirement already satisfied: typing_extensions~=4.9 in /usr/local/lib/python3.11/dist-packages (from selenium) (4.12.2)\n",
            "Requirement already satisfied: websocket-client~=1.8 in /usr/local/lib/python3.11/dist-packages (from selenium) (1.8.0)\n",
            "Requirement already satisfied: numpy>=1.23.2 in /usr/local/lib/python3.11/dist-packages (from pandas) (1.26.4)\n",
            "Requirement already satisfied: python-dateutil>=2.8.2 in /usr/local/lib/python3.11/dist-packages (from pandas) (2.8.2)\n",
            "Requirement already satisfied: pytz>=2020.1 in /usr/local/lib/python3.11/dist-packages (from pandas) (2024.2)\n",
            "Requirement already satisfied: tzdata>=2022.7 in /usr/local/lib/python3.11/dist-packages (from pandas) (2025.1)\n",
            "Requirement already satisfied: et-xmlfile in /usr/local/lib/python3.11/dist-packages (from openpyxl) (2.0.0)\n",
            "Requirement already satisfied: six>=1.5 in /usr/local/lib/python3.11/dist-packages (from python-dateutil>=2.8.2->pandas) (1.17.0)\n",
            "Requirement already satisfied: attrs>=23.2.0 in /usr/local/lib/python3.11/dist-packages (from trio~=0.17->selenium) (25.1.0)\n",
            "Collecting sortedcontainers (from trio~=0.17->selenium)\n",
            "  Downloading sortedcontainers-2.4.0-py2.py3-none-any.whl.metadata (10 kB)\n",
            "Requirement already satisfied: idna in /usr/local/lib/python3.11/dist-packages (from trio~=0.17->selenium) (3.10)\n",
            "Collecting outcome (from trio~=0.17->selenium)\n",
            "  Downloading outcome-1.3.0.post0-py2.py3-none-any.whl.metadata (2.6 kB)\n",
            "Requirement already satisfied: sniffio>=1.3.0 in /usr/local/lib/python3.11/dist-packages (from trio~=0.17->selenium) (1.3.1)\n",
            "Collecting wsproto>=0.14 (from trio-websocket~=0.9->selenium)\n",
            "  Downloading wsproto-1.2.0-py3-none-any.whl.metadata (5.6 kB)\n",
            "Requirement already satisfied: pysocks!=1.5.7,<2.0,>=1.5.6 in /usr/local/lib/python3.11/dist-packages (from urllib3[socks]<3,>=1.26->selenium) (1.7.1)\n",
            "Requirement already satisfied: h11<1,>=0.9.0 in /usr/local/lib/python3.11/dist-packages (from wsproto>=0.14->trio-websocket~=0.9->selenium) (0.14.0)\n",
            "Downloading selenium-4.28.1-py3-none-any.whl (9.5 MB)\n",
            "\u001b[2K   \u001b[90m━━━━━━━━━━━━━━━━━━━━━━━━━━━━━━━━━━━━━━━━\u001b[0m \u001b[32m9.5/9.5 MB\u001b[0m \u001b[31m29.6 MB/s\u001b[0m eta \u001b[36m0:00:00\u001b[0m\n",
            "\u001b[?25hDownloading XlsxWriter-3.2.2-py3-none-any.whl (165 kB)\n",
            "\u001b[2K   \u001b[90m━━━━━━━━━━━━━━━━━━━━━━━━━━━━━━━━━━━━━━━━\u001b[0m \u001b[32m165.1/165.1 kB\u001b[0m \u001b[31m5.9 MB/s\u001b[0m eta \u001b[36m0:00:00\u001b[0m\n",
            "\u001b[?25hDownloading trio-0.28.0-py3-none-any.whl (486 kB)\n",
            "\u001b[2K   \u001b[90m━━━━━━━━━━━━━━━━━━━━━━━━━━━━━━━━━━━━━━━━\u001b[0m \u001b[32m486.3/486.3 kB\u001b[0m \u001b[31m13.6 MB/s\u001b[0m eta \u001b[36m0:00:00\u001b[0m\n",
            "\u001b[?25hDownloading trio_websocket-0.11.1-py3-none-any.whl (17 kB)\n",
            "Downloading wsproto-1.2.0-py3-none-any.whl (24 kB)\n",
            "Downloading outcome-1.3.0.post0-py2.py3-none-any.whl (10 kB)\n",
            "Downloading sortedcontainers-2.4.0-py2.py3-none-any.whl (29 kB)\n",
            "Installing collected packages: sortedcontainers, xlsxwriter, wsproto, outcome, trio, trio-websocket, selenium\n",
            "Successfully installed outcome-1.3.0.post0 selenium-4.28.1 sortedcontainers-2.4.0 trio-0.28.0 trio-websocket-0.11.1 wsproto-1.2.0 xlsxwriter-3.2.2\n"
          ]
        }
      ],
      "source": [
        "!pip install selenium pandas openpyxl xlsxwriter"
      ]
    },
    {
      "cell_type": "code",
      "source": [
        "!apt-get update\n",
        "!apt-get install chromium chromium-driver"
      ],
      "metadata": {
        "colab": {
          "base_uri": "https://localhost:8080/"
        },
        "id": "iDjT1idH99uM",
        "outputId": "670cabc1-ac10-436e-f7e4-c191abdeec3f"
      },
      "execution_count": 2,
      "outputs": [
        {
          "output_type": "stream",
          "name": "stdout",
          "text": [
            "Get:1 https://cloud.r-project.org/bin/linux/ubuntu jammy-cran40/ InRelease [3,626 B]\n",
            "Hit:2 https://developer.download.nvidia.com/compute/cuda/repos/ubuntu2204/x86_64  InRelease\n",
            "Get:3 http://security.ubuntu.com/ubuntu jammy-security InRelease [129 kB]\n",
            "Hit:4 http://archive.ubuntu.com/ubuntu jammy InRelease\n",
            "Get:5 http://archive.ubuntu.com/ubuntu jammy-updates InRelease [128 kB]\n",
            "Get:6 https://r2u.stat.illinois.edu/ubuntu jammy InRelease [6,555 B]\n",
            "Get:7 https://r2u.stat.illinois.edu/ubuntu jammy/main all Packages [8,643 kB]\n",
            "Hit:8 https://ppa.launchpadcontent.net/deadsnakes/ppa/ubuntu jammy InRelease\n",
            "Get:9 http://security.ubuntu.com/ubuntu jammy-security/main amd64 Packages [2,604 kB]\n",
            "Get:10 http://archive.ubuntu.com/ubuntu jammy-backports InRelease [127 kB]\n",
            "Get:11 https://ppa.launchpadcontent.net/graphics-drivers/ppa/ubuntu jammy InRelease [24.3 kB]\n",
            "Hit:12 https://ppa.launchpadcontent.net/ubuntugis/ppa/ubuntu jammy InRelease\n",
            "Get:13 http://archive.ubuntu.com/ubuntu jammy-updates/main amd64 Packages [2,906 kB]\n",
            "Get:14 https://ppa.launchpadcontent.net/graphics-drivers/ppa/ubuntu jammy/main amd64 Packages [57.8 kB]\n",
            "Get:15 http://security.ubuntu.com/ubuntu jammy-security/universe amd64 Packages [1,229 kB]\n",
            "Get:16 http://archive.ubuntu.com/ubuntu jammy-updates/universe amd64 Packages [1,522 kB]\n",
            "Get:17 https://r2u.stat.illinois.edu/ubuntu jammy/main amd64 Packages [2,647 kB]\n",
            "Fetched 20.0 MB in 7s (2,945 kB/s)\n",
            "Reading package lists... Done\n",
            "W: Skipping acquire of configured file 'main/source/Sources' as repository 'https://r2u.stat.illinois.edu/ubuntu jammy InRelease' does not seem to provide it (sources.list entry misspelt?)\n",
            "Reading package lists... Done\n",
            "Building dependency tree... Done\n",
            "Reading state information... Done\n",
            "Note, selecting 'chromium-chromedriver' instead of 'chromium-driver'\n",
            "Package chromium is not available, but is referred to by another package.\n",
            "This may mean that the package is missing, has been obsoleted, or\n",
            "is only available from another source\n",
            "However the following packages replace it:\n",
            "  chromium-bsu\n",
            "\n",
            "E: Package 'chromium' has no installation candidate\n"
          ]
        }
      ]
    },
    {
      "cell_type": "code",
      "source": [
        "def web_driver():\n",
        "    options = webdriver.ChromeOptions()\n",
        "    options.add_argument(\"--verbose\")\n",
        "    options.add_argument('--no-sandbox')\n",
        "    options.add_argument('--headless')\n",
        "    options.add_argument('--disable-gpu')\n",
        "    options.add_argument(\"--window-size=1920, 1200\")\n",
        "    options.add_argument('--disable-dev-shm-usage')\n",
        "    driver = webdriver.Chrome(options=options)\n",
        "    return driver"
      ],
      "metadata": {
        "id": "duN61JcC-Ank"
      },
      "execution_count": 3,
      "outputs": []
    },
    {
      "cell_type": "code",
      "source": [
        "from selenium import webdriver\n",
        "from selenium.common.exceptions import NoSuchElementException\n",
        "from selenium.webdriver.common.by import By\n",
        "from selenium.webdriver.support.select import Select\n",
        "from selenium.webdriver.support import expected_conditions as EC\n",
        "from selenium.webdriver.support.ui import WebDriverWait\n",
        "import time\n",
        "import pandas as pd\n",
        "import numpy as np\n",
        "from openpyxl import load_workbook\n",
        "from openpyxl.styles import Alignment\n",
        "from bs4 import BeautifulSoup\n",
        "\n",
        "# Initialize webdriver\n",
        "URL = \"https://www.rajagiritech.ac.in/stud/ktu/Student/\"\n",
        "driver = web_driver()\n",
        "driver.get(URL)\n",
        "\n",
        "username = input(\"Enter your username: \")\n",
        "password = input(\"Enter your password: \")\n",
        "\n",
        "# Enter login credentials and submit\n",
        "driver.find_element(By.NAME, \"Userid\").send_keys(username)\n",
        "driver.find_element(By.NAME, \"Password\").send_keys(password)\n",
        "driver.find_element(By.XPATH, \"//input[@type='submit']\").click()\n",
        "driver.find_element(By.LINK_TEXT, \"Activity Point Form\").click()\n",
        "\n",
        "# Get class codes\n",
        "classCodeDropdown = Select(driver.find_element(By.NAME, \"Class_Code\"))\n",
        "classCodes = [option.get_attribute(\"value\") for option in classCodeDropdown.options]\n",
        "\n",
        "# Create DataFrame for activity points\n",
        "activityPoints = pd.DataFrame(classCodes, columns=['SemCode'])\n",
        "activityPoints['Semester'] = \"Semester \" + activityPoints['SemCode'].str[-3]\n",
        "activityPoints['Points'] = [0] * len(activityPoints)\n",
        "activityPoints = activityPoints.sort_values(by='SemCode')\n",
        "\n",
        "combined_df = []\n",
        "\n",
        "# Define Excel file name\n",
        "excel_file = 'activity_points.xlsx'\n",
        "\n",
        "# Write data to Excel file\n",
        "with pd.ExcelWriter(excel_file, engine='xlsxwriter') as writer:\n",
        "    for index, classCode in enumerate(classCodes):\n",
        "        combined_df.clear()\n",
        "\n",
        "        # Select class code\n",
        "        classCodeDropdown = Select(driver.find_element(By.NAME, \"Class_Code\"))\n",
        "        classCodeDropdown.select_by_value(classCode)\n",
        "\n",
        "        # Get activities\n",
        "        activitiesDropdown = Select(driver.find_element(By.NAME, \"ACode\"))\n",
        "        activities = [option.get_attribute(\"value\") for option in activitiesDropdown.options]\n",
        "        for activity in activities:\n",
        "            activitiesDropdown = Select(driver.find_element(By.NAME, \"ACode\"))\n",
        "            activitiesDropdown.select_by_value(activity)\n",
        "\n",
        "            # Add activity\n",
        "            driver.find_element(By.XPATH, \"//input[@value='Add Activity']\").click()\n",
        "            WebDriverWait(driver, 10).until(EC.presence_of_element_located((By.NAME, \"B1\")))\n",
        "\n",
        "            try:\n",
        "                # Extract HTML table\n",
        "                table = driver.find_element(By.XPATH, \"//table[@class='table table-striped']\")\n",
        "            except:\n",
        "                # print(\"No certificates added. Moving on.......\")\n",
        "                continue\n",
        "\n",
        "            # Parse HTML table\n",
        "            table_html = table.get_attribute(\"outerHTML\")\n",
        "            soup = BeautifulSoup(table_html, \"html.parser\")\n",
        "            df = pd.read_html(str(soup), header=0)[0].iloc[:-1]\n",
        "            df = df.dropna(how='all').reset_index(drop=True)\n",
        "\n",
        "            # Extract certificate links\n",
        "            certificate_links = [f\"https://www.rajagiritech.ac.in/stud/ktu/Student/{a['href']}\" for a in soup.find_all('a', href=True)]\n",
        "            df['Certificate (File Size<500kb)'] = certificate_links\n",
        "            df['Rating By Faculty'] = df['Rating By Faculty'].replace(np.nan, 0)\n",
        "            df.index += 1\n",
        "            activityPoints.loc[index, 'Points'] += df['Rating By Faculty'].sum()\n",
        "\n",
        "            combined_df.append(df)\n",
        "\n",
        "        # Write data to Excel sheet\n",
        "        start_row = 0\n",
        "        sheet_name = activityPoints.loc[index, 'Semester']\n",
        "        for df in combined_df:\n",
        "            df.to_excel(writer, sheet_name=sheet_name, startrow=start_row, index=False)\n",
        "            start_row += len(df) + 2\n",
        "\n",
        "    # Write activity points to Statistics sheet\n",
        "    activityPoints = activityPoints.sort_values(by='SemCode').reset_index(drop=True)\n",
        "    activityPoints.drop('SemCode', axis=1, inplace=True)\n",
        "    start_row = 0\n",
        "    activityPoints.to_excel(writer, sheet_name='Statistics', startrow=start_row, index=False)\n",
        "\n",
        "    # Write total points to Statistics sheet\n",
        "    total = activityPoints['Points'].sum()\n",
        "    result = f\"{total} \"\n",
        "    df = pd.DataFrame({'Total': [result]})\n",
        "    start_row += len(activityPoints) + 3\n",
        "    df.to_excel(writer, sheet_name='Statistics', index=False, startrow=start_row)\n",
        "\n",
        "time.sleep(2)\n",
        "\n",
        "# Apply left alignment to all cells in all sheets\n",
        "wb = load_workbook(filename=excel_file)\n",
        "for sheetname in wb.sheetnames:\n",
        "    ws = wb[sheetname]\n",
        "    for row in ws.iter_rows():\n",
        "        for cell in row:\n",
        "            cell.alignment = Alignment(horizontal='left')\n",
        "\n",
        "wb.save(excel_file)\n"
      ],
      "metadata": {
        "id": "A0Pq_YwC5bmP"
      },
      "execution_count": null,
      "outputs": []
    }
  ]
}